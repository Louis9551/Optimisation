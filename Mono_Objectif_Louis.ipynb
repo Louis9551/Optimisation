{
 "cells": [
  {
   "cell_type": "markdown",
   "metadata": {},
   "source": [
    "# Includes"
   ]
  },
  {
   "cell_type": "code",
   "execution_count": 57,
   "metadata": {},
   "outputs": [],
   "source": [
    "import random\n",
    "import matplotlib.pyplot as plt\n",
    "import math\n",
    "from matplotlib.animation import FuncAnimation"
   ]
  },
  {
   "cell_type": "markdown",
   "metadata": {},
   "source": [
    "# Initialisation des paramètres"
   ]
  },
  {
   "cell_type": "code",
   "execution_count": 58,
   "metadata": {},
   "outputs": [],
   "source": [
    "Npop = 100\n",
    "Sp = 2\n",
    "alpha = 0.9\n",
    "epsilon = 1e-6\n",
    "Gmax = 200\n",
    "pmut = 1\n",
    "Ntour = 4\n",
    "xmax = 10\n",
    "xmin = -10"
   ]
  },
  {
   "cell_type": "markdown",
   "metadata": {},
   "source": [
    "# Initialisation variables"
   ]
  },
  {
   "cell_type": "code",
   "execution_count": 59,
   "metadata": {},
   "outputs": [],
   "source": [
    "pop_anim = []\n",
    "\n",
    "population = []\n",
    "best = []\n",
    "worst = []\n",
    "average = []\n",
    "generation =[0]"
   ]
  },
  {
   "cell_type": "markdown",
   "metadata": {},
   "source": [
    "# Création de la classe individu"
   ]
  },
  {
   "cell_type": "code",
   "execution_count": 60,
   "metadata": {},
   "outputs": [],
   "source": [
    "class Individu:\n",
    "    def __init__(self, x1, x2):\n",
    "        self.x = [x1,x2]\n",
    "        self.f = None\n",
    "\n",
    "    def evaluation(self):\n",
    "        # f1 : DeJong\n",
    "        #self.f = self.x[0]**2 + self.x[1]**2 \n",
    "\n",
    "        # f2 : DeJong\n",
    "        #self.f = 100*(self.x[0]**2 - self.x[1])**2 + (1-self.x[0])**2\n",
    "\n",
    "        # f3 : Rast\n",
    "        #self.f = 2 + self.x[0]**2 - math.cos(2*math.pi*self.x[0]) + self.x[1]**2 - math.cos(2*math.pi*self.x[1])\n",
    "\n",
    "        # f4 : Eas\n",
    "        self.f = -math.cos(self.x[0])*math.cos(self.x[1])*math.exp(-(self.x[0]-math.pi)**2-(self.x[1]-math.pi)**2)"
   ]
  },
  {
   "cell_type": "code",
   "execution_count": null,
   "metadata": {},
   "outputs": [],
   "source": [
    "# #Hanne 2\n",
    "# class Individu:\n",
    "#     def __init__(self, x1, x2):\n",
    "#         self.x = [x1,x2]\n",
    "#         self.f = None\n",
    "\n",
    "#     def evaluation(self):\n",
    "#         self.f=self.x[0]\n",
    "#         self.f=self.x[1]"
   ]
  },
  {
   "cell_type": "markdown",
   "metadata": {},
   "source": [
    "# Création des fonctions"
   ]
  },
  {
   "cell_type": "code",
   "execution_count": 61,
   "metadata": {},
   "outputs": [],
   "source": [
    "# Affichage de la population\n",
    "def plot_population(population, generation, ax):\n",
    "    ax.clear()\n",
    "    ax.plot([individu.x[0] for individu in population], [individu.x[1] for individu in population], 'ro')\n",
    "    ax.set_ylabel('x2')\n",
    "    ax.set_xlabel('x1')\n",
    "    ax.set_xlim(xmin, xmax)\n",
    "    ax.set_ylim(xmin, xmax)\n",
    "    ax.set_title(f'Population jusqu\\'à la génération {generation[-1]}')\n",
    "\n",
    "# Initialisation de la population\n",
    "def initialisation(population, Npop):\n",
    "    for i in range(Npop):\n",
    "        x1 = random.uniform(xmin, xmax)\n",
    "        x2 = random.uniform(xmin, xmax)\n",
    "        population.append(Individu(x1, x2))\n",
    "\n",
    "# Evaluation de la population\n",
    "def evaluation(population, best, worst, average, generation):\n",
    "    best.append(None)\n",
    "    worst.append(None)\n",
    "    average.append(None)\n",
    "\n",
    "    for individu in population:\n",
    "        individu.evaluation()\n",
    "\n",
    "        if best[generation[-1]] is None or individu.f < best[generation[-1]]:\n",
    "            best[generation[-1]] = individu.f\n",
    "\n",
    "        if worst[generation[-1]] is None or individu.f > worst[generation[-1]]:\n",
    "            worst[generation[-1]] = individu.f\n",
    "\n",
    "        if average[generation[-1]] is None:\n",
    "            average[generation[-1]] = individu.f\n",
    "        else:\n",
    "            average[generation[-1]] = average[generation[-1]] + individu.f\n",
    "    \n",
    "    average[generation[-1]] = average[generation[-1]] / Npop\n",
    "\n",
    "# Critère d'arrêt\n",
    "def arret(best, worst, average, generation):\n",
    "    if generation[-1] >= Gmax:\n",
    "        return True\n",
    "    if generation[-1] >= 1:\n",
    "        if abs(average[generation[-1]] - average[generation[-2]]) <= epsilon:\n",
    "            return True\n",
    "    return False\n",
    "\n",
    "# Sélection des parents\n",
    "def selection_tournoi(population, Ntour):\n",
    "    new_population = []\n",
    "    for i in range(Npop):\n",
    "        best = None\n",
    "        for j in range(Ntour):\n",
    "            individu = random.choice(population)\n",
    "            if best is None or individu.f < best.f:\n",
    "                best = individu\n",
    "        new_population.append(best)\n",
    "    population.clear()\n",
    "    for individu in new_population:\n",
    "        population.append(individu)\n",
    "\n",
    "def selection_classement(population, Npop, Sp):\n",
    "    new_population = []\n",
    "    ps = [0]\n",
    "    population.sort(key=lambda individu: individu.f)\n",
    "    \n",
    "    for i in range(Npop):\n",
    "        ps.append(ps[i] + (1/Npop)*(Sp-2*(Sp-1)*(i/(Npop-1))))\n",
    "\n",
    "    interval = 1/Npop\n",
    "    start = random.uniform(0, interval)\n",
    "    i = 0\n",
    "    while len(new_population) < Npop:\n",
    "        cursor = start + len(new_population)*interval\n",
    "        if cursor <= ps[i+1]:\n",
    "            new_population.append(population[i])\n",
    "        else:\n",
    "            i = i+1\n",
    "\n",
    "    population.clear()\n",
    "    for individu in new_population:\n",
    "        population.append(individu)\n",
    "\n",
    "# Croisement\n",
    "def croisement(population):\n",
    "    new_population = []\n",
    "    while len(new_population) < 100 :\n",
    "         # Tirer au hasard deux individus\n",
    "        parent1 = random.choice(population)\n",
    "        population.remove(parent1)\n",
    "        parent2 = random.choice(population)\n",
    "        population.remove(parent2)\n",
    "\n",
    "        # calcul de lambda\n",
    "        u = random.uniform(0,1)\n",
    "        Y = u*(1+2*alpha)-alpha\n",
    "\n",
    "        # Calcul des enfants\n",
    "        x1_1 = Y*parent1.x[0] + (1-Y)*parent2.x[0]\n",
    "        x2_1 = Y*parent1.x[1] + (1-Y)*parent2.x[1]\n",
    "        x1_2 = (1-Y)*parent1.x[0] + Y*parent2.x[0]\n",
    "        x2_2 = (1-Y)*parent1.x[1] + Y*parent2.x[1]\n",
    "\n",
    "        # Ajouter les enfants à la nouvelle population\n",
    "        if x1_1 > xmax or x1_1 < xmin or x2_1 > xmax or x2_1 < xmin:\n",
    "            if random.choice([True, False]):\n",
    "                new_population.append(parent1)\n",
    "            else:\n",
    "                new_population.append(parent2)\n",
    "        else:\n",
    "            new_population.append(Individu(x1_1,x2_1))\n",
    "\n",
    "        if x1_2 > xmax or x1_2 < xmin or x2_2 > xmax or x2_2 < xmin:\n",
    "            if random.choice([True, False]):\n",
    "                new_population.append(parent1)\n",
    "            else:\n",
    "                new_population.append(parent2)\n",
    "        else:\n",
    "            new_population.append(Individu(x1_2,x2_2))\n",
    "\n",
    "    population.clear()\n",
    "    for individu in new_population:\n",
    "        population.append(individu)\n",
    "\n",
    "# Mutation\n",
    "def mutation(population, pmut, generation, xmax, xmin, Gmax):\n",
    "    for individu in population:\n",
    "        if random.uniform(0,100) < pmut:\n",
    "            xi = random.choice([0,1])\n",
    "            delta = random.choice([-1,1])\n",
    "            if delta == 1:\n",
    "                pas = random.uniform(0,1)*(xmax-individu.x[xi])*(1-generation[-1]/Gmax)\n",
    "            else:\n",
    "                pas = random.uniform(0,1)*(individu.x[xi]-xmin)*(1-generation[-1]/Gmax)\n",
    "            individu.x[xi] = individu.x[xi] + delta*pas"
   ]
  },
  {
   "cell_type": "markdown",
   "metadata": {},
   "source": [
    "# Programme principal"
   ]
  },
  {
   "cell_type": "code",
   "execution_count": 62,
   "metadata": {},
   "outputs": [
    {
     "data": {
      "image/png": "[encoded data removed]",
      "text/plain": [
       "<Figure size 640x480 with 1 Axes>"
      ]
     },
     "metadata": {},
     "output_type": "display_data"
    },
    {
     "data": {
      "image/png": "[encoded data removed]",
      "text/plain": [
       "<Figure size 640x480 with 1 Axes>"
      ]
     },
     "metadata": {},
     "output_type": "display_data"
    },
    {
     "name": "stdout",
     "output_type": "stream",
     "text": [
      "La valeur finale de la fonction objectif est :  -0.9999999999737691\n",
      "Les variables de décision du meilleur individu de la population finale sont :  3.141596551370905  et  3.1415911388178706\n",
      "Le nombre d'itérations est :  49\n",
      "La précision de la moyenne est de :  -3.203588827549453e-08\n"
     ]
    }
   ],
   "source": [
    "fig, ax = plt.subplots()\n",
    "\n",
    "# Initialisation de la population\n",
    "initialisation(population, Npop)\n",
    "\n",
    "#pop_anim.append(population.copy())\n",
    "\n",
    "# Evaluation de la population\n",
    "evaluation(population, best, worst, average, generation)\n",
    "\n",
    "# Boucle principale\n",
    "\n",
    "while not arret(best, worst, average, generation):\n",
    "    # Incrémentation du nombre de génération\n",
    "    generation.append(generation[-1] + 1)\n",
    "\n",
    "    # Sélection des parents\n",
    "    #selection_tournoi(population, Ntour)\n",
    "    selection_classement(population, Npop, Sp)\n",
    "\n",
    "    # Croisement\n",
    "    croisement(population)\n",
    "\n",
    "    # Mutation\n",
    "    mutation(population, pmut, generation, xmax, xmin, Gmax)\n",
    "\n",
    "    #pop_anim.append(population.copy())\n",
    "\n",
    "    # Evaluation de la population\n",
    "    evaluation(population, best, worst, average, generation)\n",
    "\n",
    "# Animation de la population\n",
    "#ani = FuncAnimation(fig, plot_population, frames=pop_anim, fargs=(generation, ax), interval=100, repeat=False)\n",
    "#ani.save('evolution_population.gif', writer='pillow')\n",
    "\n",
    "# afficher la courbe de best_f, worst_f, average_f\n",
    "plt.figure()\n",
    "plt.plot(generation,best,c = 'black',marker ='o')\n",
    "plt.plot(generation,worst,c = 'red',marker = 'o')\n",
    "plt.plot(generation,average,c = 'blue',marker = 'o')\n",
    "plt.ylabel('f')\n",
    "plt.xlabel('Génération')\n",
    "plt.legend(['best','worst','average'])\n",
    "plt.title('Evolution de la fonction objectif')\n",
    "plt.show()\n",
    "\n",
    "# affichage de la valeur finale de la fonction objectif et des variables de décision du meilleur individu de la population finale en combien d'itérations\n",
    "population.sort(key=lambda individu: individu.f)\n",
    "best_f = population[0]\n",
    "print(\"La valeur finale de la fonction objectif est : \",best_f.f)\n",
    "print(\"Les variables de décision du meilleur individu de la population finale sont : \",best_f.x[0],\" et \",best_f.x[1])\n",
    "print(\"Le nombre d'itérations est : \",generation[-1])\n",
    "print(\"La précision de la moyenne est de : \", average[generation[-1]] - average[generation[-2]])"
   ]
  }
 ],
 "metadata": {
  "kernelspec": {
   "display_name": "Python 3",
   "language": "python",
   "name": "python3"
  },
  "language_info": {
   "codemirror_mode": {
    "name": "ipython",
    "version": 3
   },
   "file_extension": ".py",
   "mimetype": "text/x-python",
   "name": "python",
   "nbconvert_exporter": "python",
   "pygments_lexer": "ipython3",
   "version": "3.11.5"
  }
 },
 "nbformat": 4,
 "nbformat_minor": 2
}
